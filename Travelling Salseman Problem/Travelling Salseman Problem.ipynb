{
 "cells": [
  {
   "cell_type": "markdown",
   "metadata": {},
   "source": [
    "### Algorithm Overview\n",
    "\n",
    "The Traveling Salesman Problem (TSP) is a well-known optimization challenge that seeks to determine the shortest possible route that visits a set of points exactly once and returns to the starting point. In this notebook, we implement a brute-force solution to TSP with a time complexity of \\(O(n!)\\). This complexity arises from the need to evaluate all possible permutations of the points to find the optimal tour based on the distances calculated from a distance matrix.\n",
    "\n",
    "The key steps of the notebook include:\n",
    "1. Loading and preparing the dataset of 2D points.\n",
    "2. Calculating Euclidean distances between the points to create a distance matrix.\n",
    "3. Implementing the brute-force TSP algorithm to find the optimal tour and its cost.\n",
    "4. Measuring the execution time of the entire process, from data preparation to the final computation.\n",
    "5. (Optional) Visualizing the tour using the `igraph` library.\n",
    "\n",
    "---\n",
    "\n",
    "### Conclusion\n",
    "\n",
    "In this notebook, we successfully implemented the brute-force Traveling Salesman Problem (TSP) algorithm to find the shortest path in a set of 2D points. We calculated the Euclidean distance between each pair of points, generating a distance matrix that was used by the TSP algorithm to assess all possible tours. The algorithm efficiently tracked the minimum path cost and displayed the corresponding route.\n",
    "\n",
    "While the brute-force method effectively finds the optimal solution for smaller datasets, its factorial time complexity of \\(O(n!)\\) makes it impractical for larger datasets. Future work could involve exploring heuristic or approximation algorithms to enhance scalability and efficiency. Additionally, optional visualizations with the `igraph` library provide an intuitive representation of the calculated tour.\n"
   ]
  },
  {
   "cell_type": "markdown",
   "metadata": {},
   "source": [
    "## 1. Algorithm Overview\n",
    "### Traveling Salesman Problem (TSP)\n",
    "The Traveling Salesman Problem (TSP) is a classic optimization problem where the goal is to find the shortest possible route that visits a set of points and returns to the origin point. \n",
    "In this notebook, we implement the TSP algorithm using a brute-force approach with a complexity of O(n!). We calculate Euclidean distances between points and measure the algorithm's execution time.\n"
   ]
  },
  {
   "cell_type": "markdown",
   "metadata": {},
   "source": [
    "## 2. Importing Necessary Libraries"
   ]
  },
  {
   "cell_type": "code",
   "execution_count": 5,
   "metadata": {},
   "outputs": [],
   "source": [
    "# Import required libraries for the project\n",
    "from itertools import permutations\n",
    "import sys\n",
    "from datetime import datetime\n",
    "import time\n",
    "from termcolor import colored\n",
    "from math import sqrt"
   ]
  },
  {
   "cell_type": "markdown",
   "metadata": {},
   "source": [
    "## 3. Traveling Salesman Problem Function\n",
    "### Traveling Salesman Problem Function\n",
    "This section defines the main algorithm for solving the Traveling Salesman Problem. It takes a distance matrix and a starting point as input and returns the minimum tour cost.\n"
   ]
  },
  {
   "cell_type": "code",
   "execution_count": 6,
   "metadata": {},
   "outputs": [],
   "source": [
    "def travelling_salesman_problem(tourgraph, startpoint):\n",
    "    \"\"\"\n",
    "    This function performs the Traveling Salesman Problem (TSP) algorithm to find the shortest path\n",
    "    in a graph represented by a distance matrix.\n",
    "    \n",
    "    Parameters:\n",
    "    - tourgraph: NxN array representing distances between N nodes.\n",
    "    - startpoint: The starting node for the path.\n",
    "    \n",
    "    Returns:\n",
    "    - Minimum cost of the path.\n",
    "    \"\"\"\n",
    "    vertex_count = len(tourgraph)                             # Count of nodes\n",
    "    vertex_list = []                                         # List for all nodes except the start point\n",
    "    d = sys.maxsize                                          # Initialize d to infinity\n",
    "    \n",
    "    # Populate vertex_list with nodes\n",
    "    for i in range(vertex_count):\n",
    "        if i != startpoint:\n",
    "            vertex_list.append(i)\n",
    "\n",
    "    # Calculate all permutations of the vertex_list\n",
    "    for i in permutations(vertex_list):                      \n",
    "        tour = 0\n",
    "        k = startpoint\n",
    "        k2 = []  # Track visited nodes\n",
    "        \n",
    "        # Calculate the tour cost for each permutation\n",
    "        for j in i:\n",
    "            tour += tourgraph[k][j]\n",
    "            k2.append(j)\n",
    "            print(f'{chr(k+97).upper()} ->' if {k} not in k2 else \"\", end=\" \")\n",
    "            k = j\n",
    "        tour += tourgraph[k][startpoint]  # Add the cost to return to the start point\n",
    "        print(f\"{chr(k+97).upper()} -> {chr(startpoint+97).upper()}\", end=\" \")\n",
    "        print('and the path cost is:  ' + colored(tour, 'yellow'))\n",
    "        d = min(d, tour)  # Update minimum tour cost\n",
    "      \n",
    "    return d\n"
   ]
  },
  {
   "cell_type": "markdown",
   "metadata": {},
   "source": [
    "## 4. Euclidean Distance Function\n",
    "### Calculating Euclidean Distance\n",
    "We define a function to calculate the Euclidean distance between two points in 2D space. This function is used to build a distance matrix for the TSP algorithm.\n"
   ]
  },
  {
   "cell_type": "code",
   "execution_count": 7,
   "metadata": {},
   "outputs": [],
   "source": [
    "def euclidean_distance(row1, row2):\n",
    "    \"\"\"\n",
    "    Calculate the Euclidean distance between two points in 2D space.\n",
    "    \n",
    "    Parameters:\n",
    "    - row1: Coordinates of the first point.\n",
    "    - row2: Coordinates of the second point.\n",
    "    \n",
    "    Returns:\n",
    "    - Euclidean distance between the two points.\n",
    "    \"\"\"\n",
    "    distance = 0.0\n",
    "    distance += (((row1[0] - row2[0]) ** 2) + ((row1[1] - row2[1]) ** 2))\n",
    "    return sqrt(distance)\n"
   ]
  },
  {
   "cell_type": "markdown",
   "metadata": {},
   "source": [
    "## 5. Loading and Preparing Data\n",
    "### Loading Dataset and Preparing the Distance Matrix and Starting the Timer\n",
    "In this step, we begin by starting a timer to measure the execution time for the entire process. We define a dataset of 2D points, then use the Euclidean distance function to create a distance matrix for the TSP algorithm."
   ]
  },
  {
   "cell_type": "markdown",
   "metadata": {},
   "source": [
    "## 6. Running the Traveling Salesman Problem Algorithm\n",
    "### Running the Traveling Salesman Problem Algorithm\n",
    "With the distance matrix ready, we run the TSP algorithm, starting from the first point, and print the resulting minimum path cost.\n"
   ]
  },
  {
   "cell_type": "markdown",
   "metadata": {},
   "source": [
    "## 7. Measuring Execution Time\n",
    "### Measuring Execution Time\n",
    "The timer measures the execution time from the loading of the data through to running the TSP algorithm. This combined approach ensures the process is timed correctly, independent of manual cell execution.\n",
    "\n"
   ]
  },
  {
   "cell_type": "code",
   "execution_count": 8,
   "metadata": {},
   "outputs": [
    {
     "name": "stdout",
     "output_type": "stream",
     "text": [
      "points:  [[2, 7], [4, 6], [18, 3], [12, 50], [7, 29]] points count:  5\n",
      "A -> B -> C -> D -> E -> A and the path cost is:  \u001b[33m108.08338149298454\u001b[0m\n",
      "A -> B -> C -> E -> D -> A and the path cost is:  \u001b[33m110.51959072197349\u001b[0m\n",
      "A -> B -> D -> C -> E -> A and the path cost is:  \u001b[33m145.13107526176728\u001b[0m\n",
      "A -> B -> D -> E -> C -> A and the path cost is:  \u001b[33m113.26807160187533\u001b[0m\n",
      "A -> B -> E -> C -> D -> A and the path cost is:  \u001b[33m145.19099448518918\u001b[0m\n",
      "A -> B -> E -> D -> C -> A and the path cost is:  \u001b[33m110.89178159630828\u001b[0m\n",
      "A -> C -> B -> D -> E -> A and the path cost is:  \u001b[33m119.67966460602265\u001b[0m\n",
      "A -> C -> B -> E -> D -> A and the path cost is:  \u001b[33m119.73958382944454\u001b[0m\n",
      "A -> C -> D -> B -> E -> A and the path cost is:  \u001b[33m154.35106836923833\u001b[0m\n",
      "A -> C -> D -> E -> B -> A and the path cost is:  \u001b[33m110.89178159630826\u001b[0m\n",
      "A -> C -> E -> B -> D -> A and the path cost is:  \u001b[33m156.7872775982273\u001b[0m\n",
      "A -> C -> E -> D -> B -> A and the path cost is:  \u001b[33m113.26807160187533\u001b[0m\n",
      "A -> D -> B -> C -> E -> A and the path cost is:  \u001b[33m153.97887749490354\u001b[0m\n",
      "A -> D -> B -> E -> C -> A and the path cost is:  \u001b[33m156.7872775982273\u001b[0m\n",
      "A -> D -> C -> B -> E -> A and the path cost is:  \u001b[33m151.60258748933649\u001b[0m\n",
      "A -> D -> C -> E -> B -> A and the path cost is:  \u001b[33m145.19099448518918\u001b[0m\n",
      "A -> D -> E -> B -> C -> A and the path cost is:  \u001b[33m119.73958382944454\u001b[0m\n",
      "A -> D -> E -> C -> B -> A and the path cost is:  \u001b[33m110.51959072197349\u001b[0m\n",
      "A -> E -> B -> C -> D -> A and the path cost is:  \u001b[33m151.60258748933649\u001b[0m\n",
      "A -> E -> B -> D -> C -> A and the path cost is:  \u001b[33m154.35106836923833\u001b[0m\n",
      "A -> E -> C -> B -> D -> A and the path cost is:  \u001b[33m153.97887749490354\u001b[0m\n",
      "A -> E -> C -> D -> B -> A and the path cost is:  \u001b[33m145.13107526176728\u001b[0m\n",
      "A -> E -> D -> B -> C -> A and the path cost is:  \u001b[33m119.67966460602265\u001b[0m\n",
      "A -> E -> D -> C -> B -> A and the path cost is:  \u001b[33m108.08338149298453\u001b[0m\n",
      ">>>>>>>>>> the TSP minimum path cost is: \u001b[1m\u001b[32m108.08338149298453\u001b[0m\n",
      "Execution time: 0.002000093460083008\n"
     ]
    }
   ],
   "source": [
    "# ***5. Loading and Preparing Data***\n",
    "# Start timing the execution\n",
    "start_time = time.time()\n",
    "\n",
    "# Define the dataset of points\n",
    "dataset = [[2, 7], [4, 6], [18, 3], [12, 50], [7, 29]]\n",
    "print(\"points: \", dataset, \"points count: \", len(dataset))\n",
    "\n",
    "# Initialize distance matrix\n",
    "matrix_array = []\n",
    "\n",
    "# Compute the distance matrix\n",
    "for j in range(len(dataset)):\n",
    "    row0 = dataset[j]\n",
    "    distance_list = []\n",
    "    for row in dataset:\n",
    "        distance = euclidean_distance(row0, row)\n",
    "        distance_list.append(distance)\n",
    "    matrix_array.append(distance_list)\n",
    "\n",
    "\n",
    "# ***6. Running the Traveling Salesman Problem Algorithm***\n",
    "# Set the starting point for the TSP\n",
    "start_point = 0\n",
    "\n",
    "# Run the Traveling Salesman Problem algorithm\n",
    "minimum_path_cost = travelling_salesman_problem(matrix_array, start_point)\n",
    "print('>>>>>>>>>> the TSP minimum path cost is: ' + colored(minimum_path_cost, 'green', attrs=['bold']))\n",
    "\n",
    "\n",
    "# ***7. Measuring Execution Time***\n",
    "# End the timer and print execution time\n",
    "end_time = time.time()\n",
    "execution_time = end_time - start_time\n",
    "print('Execution time:', execution_time)"
   ]
  },
  {
   "cell_type": "markdown",
   "metadata": {},
   "source": [
    "## 8. (Optional) Graph Plotting\n",
    "### (Optional) Graph Plotting with iGraph\n",
    "In this section, we visualize the points and the paths generated by the Traveling Salesman Problem (TSP) algorithm. We will create an undirected graph to represent the connections between the points and highlight the minimum path found.\n"
   ]
  },
  {
   "cell_type": "code",
   "execution_count": 11,
   "metadata": {},
   "outputs": [
    {
     "data": {
      "image/svg+xml": [
       "<?xml version=\"1.0\" encoding=\"UTF-8\"?>\n",
       "<svg xmlns=\"http://www.w3.org/2000/svg\" xmlns:xlink=\"http://www.w3.org/1999/xlink\" width=\"600\" height=\"600\" viewBox=\"0 0 600 600\">\n",
       "<defs>\n",
       "<g>\n",
       "<g id=\"glyph-0-0\">\n",
       "<path d=\"M 1.078125 0 L 1.078125 -10.023438 L 4.859375 -10.023438 C 5.527344 -10.023438 6.035156 -9.988281 6.382812 -9.925781 C 6.875 -9.84375 7.289062 -9.6875 7.621094 -9.457031 C 7.953125 -9.226562 8.222656 -8.90625 8.425781 -8.492188 C 8.628906 -8.074219 8.730469 -7.621094 8.730469 -7.125 C 8.730469 -6.269531 8.457031 -5.550781 7.914062 -4.960938 C 7.375 -4.371094 6.394531 -4.074219 4.976562 -4.074219 L 2.40625 -4.074219 L 2.40625 0 L 1.078125 0 M 2.40625 -5.257812 L 4.996094 -5.257812 C 5.855469 -5.257812 6.460938 -5.417969 6.820312 -5.734375 C 7.183594 -6.054688 7.363281 -6.503906 7.363281 -7.082031 C 7.363281 -7.5 7.257812 -7.859375 7.042969 -8.160156 C 6.832031 -8.457031 6.554688 -8.65625 6.207031 -8.75 C 5.984375 -8.808594 5.570312 -8.839844 4.96875 -8.839844 L 2.40625 -8.839844 Z M 2.40625 -5.257812 \"/>\n",
       "</g>\n",
       "<g id=\"glyph-0-1\">\n",
       "<path d=\"M 0.464844 -3.628906 C 0.464844 -4.972656 0.839844 -5.96875 1.585938 -6.617188 C 2.210938 -7.15625 2.972656 -7.421875 3.867188 -7.421875 C 4.867188 -7.421875 5.683594 -7.097656 6.316406 -6.441406 C 6.949219 -5.789062 7.265625 -4.886719 7.265625 -3.734375 C 7.265625 -2.796875 7.125 -2.0625 6.847656 -1.527344 C 6.566406 -0.992188 6.15625 -0.578125 5.621094 -0.28125 C 5.085938 0.015625 4.503906 0.164062 3.867188 0.164062 C 2.851562 0.164062 2.03125 -0.160156 1.40625 -0.8125 C 0.777344 -1.464844 0.464844 -2.402344 0.464844 -3.628906 M 1.730469 -3.628906 C 1.730469 -2.699219 1.933594 -2.003906 2.335938 -1.542969 C 2.742188 -1.078125 3.253906 -0.847656 3.867188 -0.847656 C 4.480469 -0.847656 4.988281 -1.078125 5.394531 -1.546875 C 5.800781 -2.007812 6 -2.71875 6 -3.671875 C 6 -4.570312 5.796875 -5.25 5.390625 -5.710938 C 4.980469 -6.175781 4.476562 -6.40625 3.867188 -6.40625 C 3.253906 -6.40625 2.742188 -6.175781 2.335938 -5.714844 C 1.933594 -5.253906 1.730469 -4.558594 1.730469 -3.628906 Z M 1.730469 -3.628906 \"/>\n",
       "</g>\n",
       "<g id=\"glyph-0-2\">\n",
       "<path d=\"M 0.929688 -8.605469 L 0.929688 -10.023438 L 2.160156 -10.023438 L 2.160156 -8.605469 L 0.929688 -8.605469 M 0.929688 0 L 0.929688 -7.257812 L 2.160156 -7.257812 L 2.160156 0 Z M 0.929688 0 \"/>\n",
       "</g>\n",
       "<g id=\"glyph-0-3\">\n",
       "<path d=\"M 0.921875 0 L 0.921875 -7.257812 L 2.03125 -7.257812 L 2.03125 -6.226562 C 2.5625 -7.023438 3.332031 -7.421875 4.339844 -7.421875 C 4.777344 -7.421875 5.179688 -7.34375 5.546875 -7.1875 C 5.914062 -7.03125 6.1875 -6.824219 6.371094 -6.570312 C 6.554688 -6.3125 6.679688 -6.011719 6.753906 -5.660156 C 6.800781 -5.433594 6.820312 -5.035156 6.820312 -4.464844 L 6.820312 0 L 5.59375 0 L 5.59375 -4.414062 C 5.59375 -4.917969 5.542969 -5.292969 5.449219 -5.539062 C 5.351562 -5.789062 5.183594 -5.988281 4.9375 -6.136719 C 4.695312 -6.285156 4.410156 -6.355469 4.082031 -6.359375 C 3.558594 -6.355469 3.105469 -6.191406 2.722656 -5.859375 C 2.34375 -5.527344 2.152344 -4.894531 2.152344 -3.964844 L 2.152344 0 Z M 0.921875 0 \"/>\n",
       "</g>\n",
       "<g id=\"glyph-0-4\">\n",
       "<path d=\"M 3.609375 -1.101562 L 3.789062 -0.015625 C 3.441406 0.0585938 3.132812 0.09375 2.859375 0.09375 C 2.410156 0.09375 2.0625 0.0234375 1.820312 -0.117188 C 1.570312 -0.257812 1.398438 -0.441406 1.296875 -0.671875 C 1.199219 -0.902344 1.148438 -1.386719 1.148438 -2.125 L 1.148438 -6.304688 L 0.246094 -6.304688 L 0.246094 -7.257812 L 1.148438 -7.257812 L 1.148438 -9.058594 L 2.371094 -9.796875 L 2.371094 -7.257812 L 3.609375 -7.257812 L 3.609375 -6.304688 L 2.371094 -6.304688 L 2.371094 -2.058594 C 2.371094 -1.707031 2.394531 -1.480469 2.4375 -1.382812 C 2.480469 -1.28125 2.550781 -1.199219 2.648438 -1.140625 C 2.746094 -1.082031 2.886719 -1.054688 3.070312 -1.054688 C 3.207031 -1.054688 3.386719 -1.070312 3.609375 -1.101562 Z M 3.609375 -1.101562 \"/>\n",
       "</g>\n",
       "<g id=\"glyph-0-5\">\n",
       "</g>\n",
       "<g id=\"glyph-0-6\">\n",
       "<path d=\"M 5.214844 0 L 3.984375 0 L 3.984375 -7.839844 C 3.6875 -7.558594 3.300781 -7.277344 2.820312 -6.992188 C 2.339844 -6.710938 1.90625 -6.5 1.523438 -6.359375 L 1.523438 -7.546875 C 2.210938 -7.871094 2.8125 -8.261719 3.328125 -8.722656 C 3.84375 -9.183594 4.207031 -9.628906 4.421875 -10.0625 L 5.214844 -10.0625 Z M 5.214844 0 \"/>\n",
       "</g>\n",
       "<g id=\"glyph-0-7\">\n",
       "<path d=\"M 7.046875 -1.183594 L 7.046875 0 L 0.421875 0 C 0.414062 -0.296875 0.460938 -0.582031 0.566406 -0.855469 C 0.734375 -1.304688 1.007812 -1.75 1.378906 -2.1875 C 1.75 -2.625 2.285156 -3.132812 2.988281 -3.703125 C 4.078125 -4.597656 4.8125 -5.304688 5.195312 -5.828125 C 5.578125 -6.347656 5.769531 -6.84375 5.769531 -7.308594 C 5.769531 -7.796875 5.59375 -8.207031 5.246094 -8.542969 C 4.898438 -8.875 4.445312 -9.042969 3.882812 -9.042969 C 3.289062 -9.042969 2.816406 -8.867188 2.460938 -8.511719 C 2.105469 -8.15625 1.925781 -7.664062 1.921875 -7.035156 L 0.65625 -7.164062 C 0.742188 -8.109375 1.070312 -8.828125 1.632812 -9.320312 C 2.199219 -9.816406 2.957031 -10.0625 3.910156 -10.0625 C 4.871094 -10.0625 5.632812 -9.796875 6.195312 -9.261719 C 6.753906 -8.730469 7.035156 -8.070312 7.035156 -7.28125 C 7.035156 -6.878906 6.953125 -6.484375 6.789062 -6.097656 C 6.625 -5.710938 6.351562 -5.300781 5.972656 -4.875 C 5.589844 -4.445312 4.957031 -3.859375 4.074219 -3.109375 C 3.335938 -2.492188 2.863281 -2.070312 2.652344 -1.847656 C 2.441406 -1.628906 2.269531 -1.40625 2.132812 -1.183594 Z M 7.046875 -1.183594 \"/>\n",
       "</g>\n",
       "<g id=\"glyph-0-8\">\n",
       "<path d=\"M 0.585938 -2.644531 L 1.820312 -2.808594 C 1.960938 -2.113281 2.199219 -1.609375 2.539062 -1.300781 C 2.878906 -0.996094 3.292969 -0.839844 3.78125 -0.839844 C 4.359375 -0.839844 4.847656 -1.042969 5.246094 -1.441406 C 5.644531 -1.84375 5.84375 -2.339844 5.84375 -2.933594 C 5.84375 -3.496094 5.660156 -3.964844 5.289062 -4.332031 C 4.921875 -4.699219 4.453125 -4.882812 3.882812 -4.882812 C 3.648438 -4.882812 3.359375 -4.835938 3.015625 -4.742188 L 3.152344 -5.824219 C 3.234375 -5.816406 3.300781 -5.8125 3.351562 -5.8125 C 3.875 -5.8125 4.34375 -5.945312 4.765625 -6.21875 C 5.183594 -6.492188 5.394531 -6.914062 5.394531 -7.484375 C 5.394531 -7.9375 5.242188 -8.308594 4.9375 -8.605469 C 4.628906 -8.902344 4.234375 -9.050781 3.753906 -9.050781 C 3.273438 -9.050781 2.875 -8.898438 2.554688 -8.601562 C 2.238281 -8.296875 2.03125 -7.847656 1.941406 -7.246094 L 0.710938 -7.464844 C 0.859375 -8.289062 1.203125 -8.929688 1.734375 -9.382812 C 2.269531 -9.835938 2.933594 -10.0625 3.726562 -10.0625 C 4.273438 -10.0625 4.777344 -9.945312 5.234375 -9.710938 C 5.695312 -9.476562 6.046875 -9.15625 6.292969 -8.75 C 6.535156 -8.34375 6.65625 -7.914062 6.65625 -7.457031 C 6.65625 -7.023438 6.542969 -6.628906 6.308594 -6.273438 C 6.078125 -5.917969 5.734375 -5.636719 5.277344 -5.429688 C 5.871094 -5.289062 6.328125 -5.007812 6.65625 -4.578125 C 6.984375 -4.144531 7.148438 -3.605469 7.148438 -2.960938 C 7.148438 -2.085938 6.832031 -1.34375 6.195312 -0.734375 C 5.554688 -0.125 4.75 0.179688 3.773438 0.179688 C 2.894531 0.179688 2.164062 -0.0859375 1.582031 -0.609375 C 1 -1.132812 0.671875 -1.8125 0.585938 -2.644531 Z M 0.585938 -2.644531 \"/>\n",
       "</g>\n",
       "<g id=\"glyph-0-9\">\n",
       "<path d=\"M 4.523438 0 L 4.523438 -2.398438 L 0.179688 -2.398438 L 0.179688 -3.527344 L 4.75 -10.023438 L 5.757812 -10.023438 L 5.757812 -3.527344 L 7.109375 -3.527344 L 7.109375 -2.398438 L 5.757812 -2.398438 L 5.757812 0 L 4.523438 0 M 4.523438 -3.527344 L 4.523438 -8.046875 L 1.386719 -3.527344 Z M 4.523438 -3.527344 \"/>\n",
       "</g>\n",
       "<g id=\"glyph-0-10\">\n",
       "<path d=\"M 0.582031 -2.625 L 1.875 -2.734375 C 1.96875 -2.105469 2.191406 -1.632812 2.539062 -1.316406 C 2.886719 -1 3.308594 -0.839844 3.800781 -0.839844 C 4.394531 -0.839844 4.894531 -1.0625 5.304688 -1.511719 C 5.714844 -1.957031 5.921875 -2.550781 5.921875 -3.289062 C 5.921875 -3.988281 5.722656 -4.542969 5.328125 -4.949219 C 4.933594 -5.355469 4.417969 -5.558594 3.78125 -5.558594 C 3.382812 -5.558594 3.027344 -5.46875 2.707031 -5.289062 C 2.386719 -5.109375 2.136719 -4.875 1.953125 -4.585938 L 0.800781 -4.738281 L 1.769531 -9.882812 L 6.753906 -9.882812 L 6.753906 -8.710938 L 2.753906 -8.710938 L 2.214844 -6.015625 C 2.816406 -6.433594 3.449219 -6.644531 4.109375 -6.644531 C 4.984375 -6.644531 5.722656 -6.339844 6.324219 -5.734375 C 6.925781 -5.128906 7.226562 -4.351562 7.226562 -3.398438 C 7.226562 -2.492188 6.960938 -1.707031 6.433594 -1.046875 C 5.789062 -0.234375 4.914062 0.171875 3.800781 0.171875 C 2.890625 0.171875 2.144531 -0.0859375 1.570312 -0.59375 C 0.992188 -1.105469 0.664062 -1.78125 0.582031 -2.625 Z M 0.582031 -2.625 \"/>\n",
       "</g>\n",
       "</g>\n",
       "</defs>\n",
       "<rect x=\"-60\" y=\"-60\" width=\"720\" height=\"720\" fill=\"rgb(100%, 100%, 100%)\" fill-opacity=\"1\"/>\n",
       "<path fill=\"none\" stroke-width=\"2\" stroke-linecap=\"butt\" stroke-linejoin=\"miter\" stroke=\"rgb(0%, 0%, 0%)\" stroke-opacity=\"1\" stroke-miterlimit=\"10\" d=\"M 580 178.367188 L 525.898438 524.46875 \"/>\n",
       "<path fill=\"none\" stroke-width=\"2\" stroke-linecap=\"butt\" stroke-linejoin=\"miter\" stroke=\"rgb(0%, 0%, 0%)\" stroke-opacity=\"1\" stroke-miterlimit=\"10\" d=\"M 525.898438 524.46875 L 179.800781 580 \"/>\n",
       "<path fill=\"none\" stroke-width=\"2\" stroke-linecap=\"butt\" stroke-linejoin=\"miter\" stroke=\"rgb(0%, 0%, 0%)\" stroke-opacity=\"1\" stroke-miterlimit=\"10\" d=\"M 179.800781 580 L 20 268.222656 \"/>\n",
       "<path fill=\"none\" stroke-width=\"2\" stroke-linecap=\"butt\" stroke-linejoin=\"miter\" stroke=\"rgb(0%, 0%, 0%)\" stroke-opacity=\"1\" stroke-miterlimit=\"10\" d=\"M 267.335938 20 L 20 268.222656 \"/>\n",
       "<path fill=\"none\" stroke-width=\"2\" stroke-linecap=\"butt\" stroke-linejoin=\"miter\" stroke=\"rgb(0%, 0%, 0%)\" stroke-opacity=\"1\" stroke-miterlimit=\"10\" d=\"M 580 178.367188 L 267.335938 20 \"/>\n",
       "<path fill-rule=\"nonzero\" fill=\"rgb(60.392157%, 80.392157%, 19.607843%)\" fill-opacity=\"1\" stroke-width=\"1\" stroke-linecap=\"butt\" stroke-linejoin=\"miter\" stroke=\"rgb(0%, 0%, 0%)\" stroke-opacity=\"1\" stroke-miterlimit=\"10\" d=\"M 590 178.367188 C 590 183.890625 585.523438 188.367188 580 188.367188 C 574.476562 188.367188 570 183.890625 570 178.367188 C 570 172.84375 574.476562 168.367188 580 168.367188 C 585.523438 168.367188 590 172.84375 590 178.367188 \"/>\n",
       "<path fill-rule=\"nonzero\" fill=\"rgb(60.392157%, 80.392157%, 19.607843%)\" fill-opacity=\"1\" stroke-width=\"1\" stroke-linecap=\"butt\" stroke-linejoin=\"miter\" stroke=\"rgb(0%, 0%, 0%)\" stroke-opacity=\"1\" stroke-miterlimit=\"10\" d=\"M 535.898438 524.46875 C 535.898438 529.992188 531.421875 534.46875 525.898438 534.46875 C 520.375 534.46875 515.898438 529.992188 515.898438 524.46875 C 515.898438 518.945312 520.375 514.46875 525.898438 514.46875 C 531.421875 514.46875 535.898438 518.945312 535.898438 524.46875 \"/>\n",
       "<path fill-rule=\"nonzero\" fill=\"rgb(60.392157%, 80.392157%, 19.607843%)\" fill-opacity=\"1\" stroke-width=\"1\" stroke-linecap=\"butt\" stroke-linejoin=\"miter\" stroke=\"rgb(0%, 0%, 0%)\" stroke-opacity=\"1\" stroke-miterlimit=\"10\" d=\"M 189.800781 580 C 189.800781 585.523438 185.324219 590 179.800781 590 C 174.277344 590 169.800781 585.523438 169.800781 580 C 169.800781 574.476562 174.277344 570 179.800781 570 C 185.324219 570 189.800781 574.476562 189.800781 580 \"/>\n",
       "<path fill-rule=\"nonzero\" fill=\"rgb(60.392157%, 80.392157%, 19.607843%)\" fill-opacity=\"1\" stroke-width=\"1\" stroke-linecap=\"butt\" stroke-linejoin=\"miter\" stroke=\"rgb(0%, 0%, 0%)\" stroke-opacity=\"1\" stroke-miterlimit=\"10\" d=\"M 277.335938 20 C 277.335938 25.523438 272.859375 30 267.335938 30 C 261.8125 30 257.335938 25.523438 257.335938 20 C 257.335938 14.476562 261.8125 10 267.335938 10 C 272.859375 10 277.335938 14.476562 277.335938 20 \"/>\n",
       "<path fill-rule=\"nonzero\" fill=\"rgb(60.392157%, 80.392157%, 19.607843%)\" fill-opacity=\"1\" stroke-width=\"1\" stroke-linecap=\"butt\" stroke-linejoin=\"miter\" stroke=\"rgb(0%, 0%, 0%)\" stroke-opacity=\"1\" stroke-miterlimit=\"10\" d=\"M 30 268.222656 C 30 273.746094 25.523438 278.222656 20 278.222656 C 14.476562 278.222656 10 273.746094 10 268.222656 C 10 262.699219 14.476562 258.222656 20 258.222656 C 25.523438 258.222656 30 262.699219 30 268.222656 \"/>\n",
       "<g fill=\"rgb(0%, 0%, 0%)\" fill-opacity=\"1\">\n",
       "<use xlink:href=\"#glyph-0-0\" x=\"558.953125\" y=\"185.382812\"/>\n",
       "<use xlink:href=\"#glyph-0-1\" x=\"568.291016\" y=\"185.382812\"/>\n",
       "<use xlink:href=\"#glyph-0-2\" x=\"576.077148\" y=\"185.382812\"/>\n",
       "<use xlink:href=\"#glyph-0-3\" x=\"579.1875\" y=\"185.382812\"/>\n",
       "<use xlink:href=\"#glyph-0-4\" x=\"586.973633\" y=\"185.382812\"/>\n",
       "<use xlink:href=\"#glyph-0-5\" x=\"590.863281\" y=\"185.382812\"/>\n",
       "<use xlink:href=\"#glyph-0-6\" x=\"594.75293\" y=\"185.382812\"/>\n",
       "</g>\n",
       "<g fill=\"rgb(0%, 0%, 0%)\" fill-opacity=\"1\">\n",
       "<use xlink:href=\"#glyph-0-0\" x=\"503.9375\" y=\"531.480469\"/>\n",
       "<use xlink:href=\"#glyph-0-1\" x=\"513.275391\" y=\"531.480469\"/>\n",
       "<use xlink:href=\"#glyph-0-2\" x=\"521.061523\" y=\"531.480469\"/>\n",
       "<use xlink:href=\"#glyph-0-3\" x=\"524.171875\" y=\"531.480469\"/>\n",
       "<use xlink:href=\"#glyph-0-4\" x=\"531.958008\" y=\"531.480469\"/>\n",
       "<use xlink:href=\"#glyph-0-5\" x=\"535.847656\" y=\"531.480469\"/>\n",
       "<use xlink:href=\"#glyph-0-7\" x=\"539.737305\" y=\"531.480469\"/>\n",
       "</g>\n",
       "<g fill=\"rgb(0%, 0%, 0%)\" fill-opacity=\"1\">\n",
       "<use xlink:href=\"#glyph-0-0\" x=\"157.785156\" y=\"587.015625\"/>\n",
       "<use xlink:href=\"#glyph-0-1\" x=\"167.123047\" y=\"587.015625\"/>\n",
       "<use xlink:href=\"#glyph-0-2\" x=\"174.90918\" y=\"587.015625\"/>\n",
       "<use xlink:href=\"#glyph-0-3\" x=\"178.019531\" y=\"587.015625\"/>\n",
       "<use xlink:href=\"#glyph-0-4\" x=\"185.805664\" y=\"587.015625\"/>\n",
       "<use xlink:href=\"#glyph-0-5\" x=\"189.695312\" y=\"587.015625\"/>\n",
       "<use xlink:href=\"#glyph-0-8\" x=\"193.584961\" y=\"587.015625\"/>\n",
       "</g>\n",
       "<g fill=\"rgb(0%, 0%, 0%)\" fill-opacity=\"1\">\n",
       "<use xlink:href=\"#glyph-0-0\" x=\"245.34375\" y=\"26.992188\"/>\n",
       "<use xlink:href=\"#glyph-0-1\" x=\"254.681641\" y=\"26.992188\"/>\n",
       "<use xlink:href=\"#glyph-0-2\" x=\"262.467773\" y=\"26.992188\"/>\n",
       "<use xlink:href=\"#glyph-0-3\" x=\"265.578125\" y=\"26.992188\"/>\n",
       "<use xlink:href=\"#glyph-0-4\" x=\"273.364258\" y=\"26.992188\"/>\n",
       "<use xlink:href=\"#glyph-0-5\" x=\"277.253906\" y=\"26.992188\"/>\n",
       "<use xlink:href=\"#glyph-0-9\" x=\"281.143555\" y=\"26.992188\"/>\n",
       "</g>\n",
       "<g fill=\"rgb(0%, 0%, 0%)\" fill-opacity=\"1\">\n",
       "<use xlink:href=\"#glyph-0-0\" x=\"-2.054688\" y=\"275.214844\"/>\n",
       "<use xlink:href=\"#glyph-0-1\" x=\"7.283203\" y=\"275.214844\"/>\n",
       "<use xlink:href=\"#glyph-0-2\" x=\"15.069336\" y=\"275.214844\"/>\n",
       "<use xlink:href=\"#glyph-0-3\" x=\"18.179688\" y=\"275.214844\"/>\n",
       "<use xlink:href=\"#glyph-0-4\" x=\"25.96582\" y=\"275.214844\"/>\n",
       "<use xlink:href=\"#glyph-0-5\" x=\"29.855469\" y=\"275.214844\"/>\n",
       "<use xlink:href=\"#glyph-0-10\" x=\"33.745117\" y=\"275.214844\"/>\n",
       "</g>\n",
       "</svg>\n"
      ],
      "text/plain": [
       "<igraph.drawing.cairo.plot.CairoPlot at 0x1cc0a9eb610>"
      ]
     },
     "execution_count": 11,
     "metadata": {
      "image/svg+xml": {
       "isolated": true
      }
     },
     "output_type": "execute_result"
    }
   ],
   "source": [
    "from igraph import Graph, plot\n",
    "\n",
    "# Define vertices based on your dataset\n",
    "vertices = [f\"Point {i+1}\" for i in range(len(dataset))]\n",
    "\n",
    "# Create edges based on the TSP paths output\n",
    "# Here, we'll consider the minimum path from the output\n",
    "# Assuming the minimum path is stored as a list of indices (for example, [0, 1, 2, 4, 3, 0])\n",
    "# Replace this example with the actual path from your TSP result\n",
    "\n",
    "# Example minimum path (replace this with your actual result)\n",
    "minimum_path = [0, 1, 2, 4, 3, 0]  # Indices of points in the optimal path\n",
    "edges = [(minimum_path[i], minimum_path[i+1]) for i in range(len(minimum_path)-1)]\n",
    "\n",
    "# Create a graph from vertices and edges\n",
    "g = Graph(vertex_attrs={\"label\": vertices}, edges=edges, directed=False)\n",
    "\n",
    "# Plot the graph with igraph\n",
    "plot(g,\n",
    "     vertex_size=20,\n",
    "     vertex_color=['yellowgreen'] * len(vertices),\n",
    "     edge_width=[2] * len(edges),\n",
    "     edge_color=['black'] * len(edges),\n",
    "     target='tourgraph.png')\n"
   ]
  }
 ],
 "metadata": {
  "kernelspec": {
   "display_name": "base",
   "language": "python",
   "name": "python3"
  },
  "language_info": {
   "codemirror_mode": {
    "name": "ipython",
    "version": 3
   },
   "file_extension": ".py",
   "mimetype": "text/x-python",
   "name": "python",
   "nbconvert_exporter": "python",
   "pygments_lexer": "ipython3",
   "version": "3.10.9"
  }
 },
 "nbformat": 4,
 "nbformat_minor": 2
}
